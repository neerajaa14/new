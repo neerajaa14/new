{
  "nbformat": 4,
  "nbformat_minor": 0,
  "metadata": {
    "colab": {
      "provenance": [],
      "authorship_tag": "ABX9TyMEAsAPXSRXAB1aE0sVlHCC",
      "include_colab_link": true
    },
    "kernelspec": {
      "name": "python3",
      "display_name": "Python 3"
    },
    "language_info": {
      "name": "python"
    }
  },
  "cells": [
    {
      "cell_type": "markdown",
      "metadata": {
        "id": "view-in-github",
        "colab_type": "text"
      },
      "source": [
        "<a href=\"https://colab.research.google.com/github/neerajaa14/new/blob/main/BasicPython.ipynb\" target=\"_parent\"><img src=\"https://colab.research.google.com/assets/colab-badge.svg\" alt=\"Open In Colab\"/></a>"
      ]
    },
    {
      "cell_type": "markdown",
      "source": [
        "# Introduction to `Python`\n",
        "\n",
        "First program displays a hello\n"
      ],
      "metadata": {
        "id": "a11oYFAD7Mhr"
      }
    },
    {
      "cell_type": "code",
      "source": [
        "print(\"Hello\")"
      ],
      "metadata": {
        "colab": {
          "base_uri": "https://localhost:8080/"
        },
        "id": "-cbEY3cR76Ja",
        "outputId": "c7cd2917-e796-405f-9999-62e127cfb992"
      },
      "execution_count": 1,
      "outputs": [
        {
          "output_type": "stream",
          "name": "stdout",
          "text": [
            "Hello\n"
          ]
        }
      ]
    },
    {
      "cell_type": "markdown",
      "source": [
        "> Program to run an integer value"
      ],
      "metadata": {
        "id": "7NH7T3s69WEr"
      }
    },
    {
      "cell_type": "code",
      "source": [
        "a=10\n",
        "print( \"Value of variable is\",a)"
      ],
      "metadata": {
        "colab": {
          "base_uri": "https://localhost:8080/"
        },
        "id": "6WsrNhLt9DKU",
        "outputId": "f94bb99c-0e32-49f5-ef09-e3a7916ebd5b"
      },
      "execution_count": 3,
      "outputs": [
        {
          "output_type": "stream",
          "name": "stdout",
          "text": [
            "Value of variable is 10\n"
          ]
        }
      ]
    },
    {
      "cell_type": "markdown",
      "source": [
        "> program to find sum "
      ],
      "metadata": {
        "id": "bWvD7GHh90ui"
      }
    },
    {
      "cell_type": "code",
      "source": [
        "a=10\n",
        "b=20\n",
        "c=a+b\n",
        "print(\"Sum of a and b is :\",c)"
      ],
      "metadata": {
        "colab": {
          "base_uri": "https://localhost:8080/"
        },
        "id": "cHfEcp6A9mGD",
        "outputId": "9e48fca3-4469-487a-fbca-fdd206eecb25"
      },
      "execution_count": 5,
      "outputs": [
        {
          "output_type": "stream",
          "name": "stdout",
          "text": [
            "Sum of a and b is : 30\n"
          ]
        }
      ]
    },
    {
      "cell_type": "code",
      "source": [
        "print(\"Enter first number:\")\n",
        "a=int(input())\n",
        "b=int(input(\"Enter second no\"))\n",
        "c=a+b\n",
        "print(\"Sum of a and b :\",c)"
      ],
      "metadata": {
        "colab": {
          "base_uri": "https://localhost:8080/"
        },
        "id": "81JAX5UX97Ry",
        "outputId": "e9dec632-be62-4778-835e-1a3e0f6bc185"
      },
      "execution_count": 8,
      "outputs": [
        {
          "output_type": "stream",
          "name": "stdout",
          "text": [
            "Enter first number:\n",
            "10\n",
            "Enter second no55\n",
            "Sum of a and b : 65\n"
          ]
        }
      ]
    }
  ]
}